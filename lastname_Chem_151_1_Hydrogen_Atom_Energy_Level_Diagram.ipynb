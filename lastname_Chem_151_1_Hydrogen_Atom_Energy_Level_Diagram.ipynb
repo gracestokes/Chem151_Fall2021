{
  "nbformat": 4,
  "nbformat_minor": 5,
  "metadata": {
    "kernelspec": {
      "display_name": "Python 3 (ipykernel)",
      "language": "python",
      "name": "python3"
    },
    "language_info": {
      "codemirror_mode": {
        "name": "ipython",
        "version": 3
      },
      "file_extension": ".py",
      "mimetype": "text/x-python",
      "name": "python",
      "nbconvert_exporter": "python",
      "pygments_lexer": "ipython3",
      "version": "3.9.5"
    },
    "colab": {
      "name": "lastname_Chem 151 -- 1 -- Hydrogen_Atom_Energy_Level_Diagram.ipynb",
      "provenance": [],
      "collapsed_sections": []
    }
  },
  "cells": [
    {
      "cell_type": "markdown",
      "metadata": {
        "id": "cMCzF-8Dccqy"
      },
      "source": [
        "The purpose of this exercise is to visualize the energy diagram for the different wavelengths of light emitted in a Hydrogen Atomic Spectrum.\n",
        "\n",
        "### Written by Elliott Anderson (Chemistry '22), Dr. Hoda Mirafzal, and Dr. Grace Stokes (Santa Clara University)"
      ],
      "id": "cMCzF-8Dccqy"
    },
    {
      "cell_type": "markdown",
      "metadata": {
        "id": "UuXYOGWfQf50"
      },
      "source": [
        "This exercise has 3 parts:\n",
        "\n",
        "Part 1: Plot an Energy Level Diagram for the Hydrogen Atom using Python.\n",
        "\n",
        "Part 2: Calculate the energy of light emitted or absorbed when an electron transitions between two different energy levels. Convert the energy in Joules to frequency (in Hz) and wavelength (in nanometers). Compare different transitions both graphically and mathematically. Answer 3 questions about what you did.\n",
        "\n",
        "Part 3: Choose four different values for $n_{initial}$ and $n_{final}$ and Answer 2 more questions about what you observe."
      ],
      "id": "UuXYOGWfQf50"
    },
    {
      "cell_type": "markdown",
      "metadata": {
        "id": "mmbmB4HEdDp_"
      },
      "source": [
        "# Part 1: Hydrogen Energy Levels\n",
        "In the cell below, we will plug constants from the table below into Equation 1 to calculate energy in Joules for different integer values of n.\n",
        "\n",
        "$$E_{n} = -\\frac{m_e e^4}{8\\epsilon_0^2h^2n^2}\\qquad(1)$$\n",
        "\n",
        "| Symbol | Quantity | Value in SI units\n",
        "|---|---|---|\n",
        "| $m_e$ | electron mass| $9.109\\times 10^{-31}$ kg |\n",
        "| $e$ | electron charge| $1.602\\times 10^{-19}$ C |\n",
        "| $\\epsilon_0$ | vacuum permittivity| $8.854\\times 10^{-12}$ C$^2$/J m |\n",
        "| $h$ | Planck's constant| $6.626\\times 10^{-34}$ J s |. "
      ],
      "id": "mmbmB4HEdDp_"
    },
    {
      "cell_type": "markdown",
      "metadata": {
        "id": "cQlA7L60FhM7"
      },
      "source": [
        "# Notes about Python\n",
        "<p>1) If you change a value and then go back and run an earlier code block, it will use the new value, not the first defined value, which may give you incorrect analysis.\n",
        "\n",
        "2) Similarly, if you open your notebook later, and try to run a code block in the middle, it may tell you that your variables are undefined, even though you can clearly see them defined in earlier code blocks. But if you didn’t re-run those code blocks, then Python doesn’t know they exist.\n",
        "\n",
        "3)  Hashtags (<i>#</i>) at the beginning of a line signify comments and get color-coded as green but do not impact the execution of the code.\n",
        "\n",
        "4) The first step in any python exercise is to bring in (or import) the libraries for numerical operations and graphics. That's what the next cell does. </br>"
      ],
      "id": "cQlA7L60FhM7"
    },
    {
      "cell_type": "code",
      "metadata": {
        "id": "qsP9yg6kHogC"
      },
      "source": [
        "# This first cell imports various libraries and packages that we will need.\n",
        "# Execute this cell by hitting shift and enter at the same time\n",
        "import numpy\n",
        "import math\n",
        "import os\n",
        "import matplotlib.pyplot as plt\n",
        "import pandas as pd\n",
        "\n",
        "print('Python libraries have been successfull imported.')"
      ],
      "id": "qsP9yg6kHogC",
      "execution_count": null,
      "outputs": []
    },
    {
      "cell_type": "markdown",
      "metadata": {
        "id": "xwxD0PsxH15_"
      },
      "source": [
        "# Enter Constants from Table above\n",
        "1) In the cell below, you will type in the numbers listed in the table above.\n",
        "\n",
        "2) Double asterisks (````** ````) are used to represent an exponent. Single asterisk (````* ````) is used for multiplication. To represent $5^2$, the syntax is ````5**2````. To represent $1x10^5$, type ````1*10**5````"
      ],
      "id": "xwxD0PsxH15_"
    },
    {
      "cell_type": "code",
      "metadata": {
        "id": "lthANW7nHl5z"
      },
      "source": [
        "# Delete the ... and enter the numerical values\n",
        "# Units are already provided after the # -- don't delete\n",
        "# When you are done entering constants, hit Shift and Enter at the same time.\n",
        "\n",
        "m_e = ...  # kg\n",
        "e = ...  # C\n",
        "vp = ... # C^2 / J*m\n",
        "h =  ...  # J*s\n",
        "\n",
        "print ('mass of electron = ', m_e, 'kg')\n",
        "print('charge of electron =', e, 'C')\n",
        "print('vacuum permittivity = ', vp, 'C^2 / J*m')\n",
        "print('Plancks constant=', h, 'J*s')"
      ],
      "id": "lthANW7nHl5z",
      "execution_count": null,
      "outputs": []
    },
    {
      "cell_type": "markdown",
      "metadata": {
        "id": "-YcQro_XJ-2W"
      },
      "source": [
        "# Calculate Energies for n = 1 through n = 10\n",
        "\n",
        "Using the equations you defined above, the code in the cell below calculates values for Energy in Joules."
      ],
      "id": "-YcQro_XJ-2W"
    },
    {
      "cell_type": "code",
      "metadata": {
        "id": "Uwq1_yQSd8e-"
      },
      "source": [
        "# Enter the numerator and denominator from Eqn 1 above\n",
        "# When you are finished, execute this cell by hitting shift and enter at the same time\n",
        "\n",
        "# This code plots the lowest 10 energy levels for the H atom\n",
        "n_min = 1 #we call this the ground state energy\n",
        "n_max = 10 #This is the maximum quantum number, which can be changed\n",
        "n = numpy.linspace(n_min, n_max, n_max-n_min+1)\n",
        "\n",
        "# Equation 1\n",
        "numerator = ...\n",
        "denominator = ...\n",
        "e_lv = -numerator/denominator\n",
        "\n",
        "\n",
        "# Calculate Energies for the lowest 10 energy levels of the H atom in Joules\n",
        "inc = 0\n",
        "for inc, big_int in enumerate(reversed(e_lv)):\n",
        "    print('for n=',n_max-inc, ', Energy = ', big_int, 'Joules')"
      ],
      "id": "Uwq1_yQSd8e-",
      "execution_count": null,
      "outputs": []
    },
    {
      "cell_type": "markdown",
      "metadata": {
        "id": "cAGif4IdmZt-"
      },
      "source": [
        "# Negative energies are hard to visualize\n",
        "To better visualize which values are largest and which one is smallest, plot the energy diagram using the code in the cell below."
      ],
      "id": "cAGif4IdmZt-"
    },
    {
      "cell_type": "code",
      "metadata": {
        "id": "mjI2WL8Yikpf"
      },
      "source": [
        "# Execute this cell with shift-enter\n",
        "# Do not make any changes to this cell\n",
        "\n",
        "# Define the colors that will be used in the energy diagram\n",
        "colors = ['#e6194b', '#3cb44b', '#ffe119', '#4363d8', '#f58231', \n",
        "          '#911eb4', '#46f0f0', '#f032e6', '#bcf60c', '#fabebe', \n",
        "          '#008080', '#e6beff', '#9a6324', '#fffac8', '#800000', \n",
        "          '#aaffc3', '#808000', '#ffd8b1', '#000075', '#808080', \n",
        "          '#ffffff', '#000000'] #A list of colors that the list pull upon, needs to have >= entries than the value of n_max\n",
        "# Plot the Energy Diagram\n",
        "fig = plt.figure()\n",
        "inc = 0\n",
        "for inc, big_int in enumerate(reversed(e_lv)):\n",
        "    x_big = range(0,n_max)\n",
        "    y_big = [big_int]*n_max\n",
        "    plt.plot(x_big,y_big, color = colors[inc+1])\n",
        "    inc+=1\n",
        "    plt.ylabel('Energy (Joules)') \n",
        "    plt.xticks([])\n",
        "    plt.title(\"Hydrogen Energy Levels\")\n",
        "\n",
        "#Generates a legend for the plot\n",
        "ax = plt.plot(x_big, y_big)\n",
        "plt.xlim(0, 9) #change this value to n_max-1 if you change n_max\n",
        "plt.ylim(-2.5e-18, 1e-20)\n",
        "plt.legend(range(n_max, 0, -1), loc=\"center right\", bbox_to_anchor = (1.2,.5), title = \"n=\")"
      ],
      "id": "mjI2WL8Yikpf",
      "execution_count": null,
      "outputs": []
    },
    {
      "cell_type": "markdown",
      "metadata": {
        "id": "4ELQ500Fn5Rq"
      },
      "source": [
        "# Part 2: Predicting Hydrogen Emission Wavelengths\n",
        "\n",
        "You will use the Python code below to answer these three questions:\n",
        "\n",
        "<p><b>2.1.</b> Suppose an electron undergoes a transition between an initial energy level (n_init_a) = 3 to a final energy level (n_final_a) = 1. Use the code below to calculate the energy (in Joules) of light emitted for this transition and to convert this value to frequency (in Hz) and wavelength (in nanometers). \n",
        "<p><b>2.2.</b> What if the initial energy level (n_init_b) = 2 and the final energy level (n_final_b) = 1? Is the wavelength of light emitted for the 2 --> 1 transition longer or shorter than for 3 --> 2 ? \n",
        "<p><b>2.3.</b> Which of these two transitions (3 --> 2 or 2 --> 1) could you see with the naked eye? Why?\n",
        "\n",
        "Type your answers in the blank text cell below:\n",
        "\n"
      ],
      "id": "4ELQ500Fn5Rq"
    },
    {
      "cell_type": "markdown",
      "metadata": {
        "id": "gHMnHVqMBiT9"
      },
      "source": [
        "Answers to Questions:\n",
        "<p>2.1.\n",
        "<p>2.2.\n",
        "<p>2.3."
      ],
      "id": "gHMnHVqMBiT9"
    },
    {
      "cell_type": "code",
      "metadata": {
        "id": "32b55894"
      },
      "source": [
        "#Make changes to the values below before you hit SHIFT and ENTER\n",
        "\n",
        "n_init_a = \n",
        "n_final_a = \n",
        "n_init_b = \n",
        "n_final_b = \n",
        "\n",
        "print('transition a goes from from n=', n_init_a, 'to n =', n_final_a)\n",
        "print('transition b goes from from n=', n_init_b, 'to n =', n_final_b)"
      ],
      "id": "32b55894",
      "execution_count": null,
      "outputs": []
    },
    {
      "cell_type": "code",
      "metadata": {
        "id": "c3215a44"
      },
      "source": [
        "# Execute this cell with shift-enter\n",
        "# Do not make any changes to this cell\n",
        "\n",
        "e_lv_i_a = e_lv[n_init_a-1]\n",
        "e_lv_i_b = e_lv[n_init_b-1]\n",
        "e_lv_f_a = e_lv[n_final_a-1]\n",
        "e_lv_f_b = e_lv[n_final_b-1]\n",
        "\n",
        "delta_e_a = e_lv_f_a - e_lv_i_a\n",
        "delta_e_b = e_lv_f_b - e_lv_i_b\n",
        "\n",
        "# Comparison of frequencies in s^-1 \n",
        "d_e_freq_a = abs(delta_e_a / h)\n",
        "d_e_freq_b = abs(delta_e_b / h)\n",
        "sci_freq_a = \"{:e}\".format(d_e_freq_a)\n",
        "sci_freq_b = \"{:e}\".format(d_e_freq_b)\n",
        "\n",
        "# Comparison of wavelengths in nm\n",
        "c= 299792458 #Speed of Light\n",
        "d_e_wave_a = c / d_e_freq_a\n",
        "d_e_wave_nm_a = d_e_wave_a * 10**9\n",
        "d_e_wave_b = c / d_e_freq_b\n",
        "d_e_wave_nm_b = d_e_wave_b * 10**9\n",
        "\n",
        "# Make the table with values for Joules, Hertz and n-final1, n_final2, n_init\n",
        "column1 = [n_init_a, n_final_a, delta_e_a, sci_freq_a, d_e_wave_nm_a]\n",
        "column2 = [n_init_b, n_final_b, delta_e_b, sci_freq_b, d_e_wave_nm_b]\n",
        "\n",
        "#Plots and saves the table (where does it save to? and what is the name of the file?)\n",
        "fig, ax =plt.subplots(1,1)\n",
        "data=[column1,column2]\n",
        "column_labels=[\"n_init\", \"n_final\", \"Energy (J)\", \"Frequency (Hz)\", \"Wavelength (nm)\" ]\n",
        "df=pd.DataFrame(data,columns=column_labels)\n",
        "ax.axis('tight')\n",
        "ax.axis('off')\n",
        "# Define ax.table as an object called table. Then, you can set the font and the scale of the table object with the two lines of code below.\n",
        "table = ax.table(cellText=df.values,\n",
        "        colLabels=df.columns,\n",
        "        rowLabels=[\"transition a\", \"transition b\"],\n",
        "        loc=\"center\")\n",
        "table.set_fontsize(30)\n",
        "table.scale(5, 5)\n",
        "plt.show()\n",
        "\n",
        "#Plots Energy Diagram\n",
        "fig = plt.figure()\n",
        "inc = 0\n",
        "\n",
        "#Defines the data and plots the large graph\n",
        "for inc, big_int in enumerate(reversed(e_lv)):\n",
        "    x_big = range(0,n_max)\n",
        "    y_big = [big_int]*n_max\n",
        "    plt.plot(x_big,y_big, color = colors[inc+1])\n",
        "    inc+=1\n",
        "    plt.ylabel('Energy (Joules)') \n",
        "    plt.xticks([])\n",
        "    plt.arrow(1, e_lv_i_a, 0, delta_e_a, width = 0) #Adds the arrow to the graph if n<=5\n",
        "    plt.arrow(2, e_lv_i_b, 0, delta_e_b, width = 0)\n",
        "    plt.title(\"Hydrogen Energy Levels\")\n",
        "\n",
        "#Generates a legend for the plot\n",
        "ax = plt.plot(x_big, y_big)\n",
        "plt.xlim(0, 9)\n",
        "plt.ylim(-2.5e-18, 1e-20)\n",
        "plt.legend(range(n_max, 0, -1), loc=\"center right\", bbox_to_anchor = (1.2,.5), title = \"n=\")"
      ],
      "id": "c3215a44",
      "execution_count": null,
      "outputs": []
    },
    {
      "cell_type": "markdown",
      "metadata": {
        "id": "R_svyqdhvdnP"
      },
      "source": [
        "# Part 3. Choose your own adventure\n",
        "\n",
        "You will use the Python code below to answer these last two questions:\n",
        "<p><b>3.1.</b> Change the initial and final values of energy levels. Choose two new values for <b>n_init_c</b> and <b>n_final_c</b> (remember that $n_{init}$ > $n_{final}$) and see how the values for wavelength changes. Is the light emitted in the UV, visible or infrared region? What is the advantage (when you plot energy diagram) of using small values for n?\n",
        "<p><b>3.2.</b> Choose two new values for <b>n_init_d</b> and <b>n_final_d</b> so that you represent an excitation (absorbance of light) instead of emission of light. In this case, $n_{final}$ > $n_{init}$. Is the sign for the Energy (in Joules) of excitation the same or different than for emission?\n",
        "\n",
        "Type your answers in the blank cell below:</p>"
      ],
      "id": "R_svyqdhvdnP"
    },
    {
      "cell_type": "markdown",
      "metadata": {
        "id": "736UgqX8Fedn"
      },
      "source": [
        "Answers to Questions:\n",
        "<p>3.1.\n",
        "<p>3.2."
      ],
      "id": "736UgqX8Fedn"
    },
    {
      "cell_type": "code",
      "metadata": {
        "id": "9MmSf0H4Ceds"
      },
      "source": [
        "#Make changes to the values below before you hit SHIFT and ENTER\n",
        "\n",
        "n_init_c = \n",
        "n_final_c = \n",
        "n_init_d = \n",
        "n_final_d = \n",
        "\n",
        "print('transition c goes from from n=', n_init_c, 'to n =', n_final_c)\n",
        "print('transition d goes from from n=', n_init_d, 'to n =', n_final_d)"
      ],
      "id": "9MmSf0H4Ceds",
      "execution_count": null,
      "outputs": []
    },
    {
      "cell_type": "code",
      "metadata": {
        "id": "W0L8sWuZES44"
      },
      "source": [
        "# Execute this cell with shift-enter\n",
        "# Do not make any changes to this cell\n",
        "\n",
        "e_lv_i_c = e_lv[n_init_c-1]\n",
        "e_lv_i_d = e_lv[n_init_d-1]\n",
        "e_lv_f_c = e_lv[n_final_c-1]\n",
        "e_lv_f_d = e_lv[n_final_d-1]\n",
        "\n",
        "delta_e_c = e_lv_f_c - e_lv_i_c\n",
        "delta_e_d = e_lv_f_d - e_lv_i_d\n",
        "\n",
        "# Comparison of frequencies in s^-1 \n",
        "d_e_freq_c = abs(delta_e_c / h)\n",
        "d_e_freq_d = abs(delta_e_d / h)\n",
        "sci_freq_c = \"{:e}\".format(d_e_freq_c)\n",
        "sci_freq_d = \"{:e}\".format(d_e_freq_d)\n",
        "\n",
        "# Comparison of wavelengths in nm\n",
        "c= 299792458 #Speed of Light\n",
        "d_e_wave_c = c / d_e_freq_c\n",
        "d_e_wave_nm_c = d_e_wave_c * 10**9\n",
        "d_e_wave_d = c / d_e_freq_d\n",
        "d_e_wave_nm_d = d_e_wave_d * 10**9\n",
        "\n",
        "# Make the table with values for Joules, Hertz and n-final1, n_final2, n_init\n",
        "column1 = [n_init_c, n_final_c, delta_e_c, sci_freq_c, d_e_wave_nm_c]\n",
        "column2 = [n_init_d, n_final_d, delta_e_d, sci_freq_d, d_e_wave_nm_d]\n",
        "\n",
        "#Plots and saves the table (where does it save to? and what is the name of the file?)\n",
        "fig, ax =plt.subplots(1,1)\n",
        "data=[column1,column2]\n",
        "column_labels=[\"n_init\", \"n_final\", \"Energy (J)\", \"Frequency (Hz)\", \"Wavelength (nm)\" ]\n",
        "df=pd.DataFrame(data,columns=column_labels)\n",
        "ax.axis('tight')\n",
        "ax.axis('off')\n",
        "# Define ax.table as an object called table. Then, you can set the font and the scale of the table object with the two lines of code below.\n",
        "table = ax.table(cellText=df.values,\n",
        "        colLabels=df.columns,\n",
        "        rowLabels=[\"transition c\", \"transition d\"],\n",
        "        loc=\"center\")\n",
        "table.set_fontsize(30)\n",
        "table.scale(5, 5)\n",
        "plt.show()\n",
        "\n",
        "#Plots Energy Diagram\n",
        "fig = plt.figure()\n",
        "inc = 0\n",
        "\n",
        "#Defines the data and plots the large graph\n",
        "for inc, big_int in enumerate(reversed(e_lv)):\n",
        "    x_big = range(0,n_max)\n",
        "    y_big = [big_int]*n_max\n",
        "    plt.plot(x_big,y_big, color = colors[inc+1])\n",
        "    inc+=1\n",
        "    plt.ylabel('Energy (Joules)') \n",
        "    plt.xticks([])\n",
        "    plt.arrow(1, e_lv_i_c, 0, delta_e_c, width = 0) #Adds the arrow to the graph if n<=5\n",
        "    plt.arrow(2, e_lv_i_d, 0, delta_e_d, width = 0)\n",
        "    plt.title(\"Hydrogen Energy Levels\")\n",
        "\n",
        "#Generates a legend for the plot\n",
        "ax = plt.plot(x_big, y_big)\n",
        "plt.xlim(0, 9)\n",
        "plt.ylim(-2.5e-18, 1e-20)\n",
        "plt.legend(range(n_max, 0, -1), loc=\"center right\", bbox_to_anchor = (1.2,.5), title = \"n=\")"
      ],
      "id": "W0L8sWuZES44",
      "execution_count": null,
      "outputs": []
    },
    {
      "cell_type": "markdown",
      "metadata": {
        "id": "qzNt1tUjwKin"
      },
      "source": [
        ""
      ],
      "id": "qzNt1tUjwKin"
    },
    {
      "cell_type": "markdown",
      "metadata": {
        "id": "Nw4zBvq7WQMu"
      },
      "source": [
        "# We would like your feedback about this activity:\n",
        "Upon completing this exercise, please consider giving us some feedback. The survey is voluntary and will not impact your grade:\n",
        "https://scu.az1.qualtrics.com/jfe/form/SV_2n9ZCfjF8i0gDbg"
      ],
      "id": "Nw4zBvq7WQMu"
    }
  ]
}