{
  "nbformat": 4,
  "nbformat_minor": 0,
  "metadata": {
    "kernelspec": {
      "language": "python",
      "display_name": "Python 3",
      "name": "python3"
    },
    "language_info": {
      "pygments_lexer": "ipython3",
      "nbconvert_exporter": "python",
      "version": "3.6.4",
      "file_extension": ".py",
      "codemirror_mode": {
        "name": "ipython",
        "version": 3
      },
      "name": "python",
      "mimetype": "text/x-python"
    },
    "colab": {
      "name": "0_lastname_sample_Python_exam_blackbody_radiation.ipynb",
      "provenance": [],
      "collapsed_sections": []
    }
  },
  "cells": [
    {
      "cell_type": "markdown",
      "metadata": {
        "id": "8Nfv2SUmQiON"
      },
      "source": [
        "# Your Goal: Make Figure 1.2 on page 6 of McQuarrie using Python\n",
        "\n"
      ]
    },
    {
      "cell_type": "markdown",
      "metadata": {
        "id": "XJsyH2xWQiOP"
      },
      "source": [
        "In McQuarrie Chapter 1, we learned about a blackbody, an opaque, non-reflective body that absorbs energy and emits that energy as light. Emission by the sun and Earth can be approximated as _blackbody radiation_.  To emit blackbody radiation, an object must be in thermodynamic equilibrium with its environment, which is approximately true for the sun and the Earth. (Note however that neither is a perfect blackbody. The Earth reflects some incoming electromagnetic radiation back to space, and the sun is not a solid body but rather a plasma). \n",
        "\n",
        "The spectral radiation from a blackbody is given by Equation 1 below, which is a variant of Equation 1.3 on pg. 5 of McQuarrie:\n",
        "\n",
        "\n",
        "<p style = 'text-align: right;'>\n",
        "$\\rho(\\lambda, T) = \\dfrac{8\\pi hc} {\\lambda^5\\left(e^{hc/\\lambda kT}-1\\right)}$, \n",
        "$\\qquad\\qquad\\qquad\\qquad\\qquad\\qquad\\qquad\\qquad\\qquad\\qquad\\qquad (1) $\n",
        "</p>\n",
        "\n",
        "\n",
        "where $\\rho$ is the spectral, or frequency-dependent, radiation ($\\rho$ is also sometimes called the radiated energy density per unit wavelength $(\\lambda)$). In this equation, h is Planck's constant, c is the speed of light, T is the temperature, and k is the Boltzmann constant. This equation shows that the radiation from a blackbody depends on temperature and wavelength. \n"
      ]
    },
    {
      "cell_type": "markdown",
      "metadata": {
        "id": "5p_-Ca-ZQiOS"
      },
      "source": [
        "Your job: Compute and plot of $\\rho$ vs. $\\lambda$ for a blackbody at temperatures of 6000, 5000, 4000, and 3000 K on the same graph. You should label your graph appropriately, with a legend. You will need about 1000 points in the x axis so that the function looks smooth.\n",
        "\n",
        "Interestingly, the surface temperature of the sun is 6000 K! \n"
      ]
    },
    {
      "cell_type": "code",
      "metadata": {
        "collapsed": true,
        "jupyter": {
          "outputs_hidden": true
        },
        "id": "GrDWnglkQiOS"
      },
      "source": [
        "# Import libraries you need\n",
        "# First, import numpy for numerical operations\n",
        "# Second, import matplotlib.pyplot for graphics\n",
        "\n",
        "\n",
        "# Fill in the blanks with the constants you will need\n",
        "h =    # Planck's constant in m2 kg / s\n",
        "c =    # Speed of light in a vacuum in m / s\n",
        "k =    # Boltmann constantin  J/K"
      ],
      "execution_count": 2,
      "outputs": []
    },
    {
      "cell_type": "markdown",
      "metadata": {
        "id": "p6UGfZh6QiOT"
      },
      "source": [
        "Second, you will define the wavelengths (in meters) on the x axis using the linspace function. As you can see in Figure 1.2 on page 6, the wavelengths range from 20 nm to 2000 nm. First, convert those values to meters. Then, define your x values for wavelength within those ranges with 1000 points total."
      ]
    },
    {
      "cell_type": "code",
      "metadata": {
        "collapsed": true,
        "jupyter": {
          "outputs_hidden": true
        },
        "id": "x3lY9gorQiOT"
      },
      "source": [
        "# Use linspace to define frequencies from 20 nm to 2000 nm (convert to meters) with 1000 points total\n"
      ],
      "execution_count": 9,
      "outputs": []
    },
    {
      "cell_type": "markdown",
      "metadata": {
        "id": "ju-Qtad_SBsr"
      },
      "source": [
        "Third, calculate the values of $\\rho$ from Equation 1 for temperatures of 6000 K, 5000 K, 4000, 3000 K (your goal is to reproduce the plot in Figure 1.2 on page 6)."
      ]
    },
    {
      "cell_type": "code",
      "metadata": {
        "collapsed": true,
        "jupyter": {
          "outputs_hidden": true
        },
        "id": "-oLx8UHCQiOT"
      },
      "source": [
        "# Write a function to calculate rho (spectral radiation for a blackbody) for T = 6000, 5000, 4000, 3000 K\n",
        "\n"
      ],
      "execution_count": 14,
      "outputs": []
    },
    {
      "cell_type": "code",
      "metadata": {
        "id": "mW5-KLbeQiOU"
      },
      "source": [
        "# Make the plot\n"
      ],
      "execution_count": null,
      "outputs": []
    }
  ]
}