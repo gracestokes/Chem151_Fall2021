{
  "nbformat": 4,
  "nbformat_minor": 0,
  "metadata": {
    "colab": {
      "name": "5--lastname--Rotovibrational Spectroscopy (HW 6-16).ipynb",
      "provenance": [],
      "collapsed_sections": []
    },
    "kernelspec": {
      "name": "python3",
      "display_name": "Python 3"
    },
    "language_info": {
      "name": "python"
    }
  },
  "cells": [
    {
      "cell_type": "markdown",
      "metadata": {
        "id": "uYzyCFdULF-I"
      },
      "source": [
        "This Jupyter Notebooks was written by Dr. Courtney Harrington (Colorado State University).\n",
        "<p>It was adopted for Chem 151 at SCU by Dr. Grace Stokes."
      ]
    },
    {
      "cell_type": "markdown",
      "metadata": {
        "id": "upwacinYKSoP"
      },
      "source": [
        "# Coupling of a Harmonic Oscillator and Rigid Rotor \n",
        "\n",
        "To solve HW 6-16, you will need to combine what you learned about the anharmonic oscillator in Chapter 5 with Sections 6.3-6.5 pg. 275-282 of McQuarrie textbook.\n",
        "\n",
        "If the vibrational motion of a diatomic molecule is well described by the harmonic oscillator model and the rotational motion is well described by a rigid rotator, the vibrational-rotational spectrum should be well described by the combination of these two. That is, you'd expect the total rotational and vibrational enegy of the molecule to be the sum of the rotational and vibrational energies as shown in Equation 6.35 (pg. 275) \n",
        "\n",
        "$$E_{n,J} = \\tilde{\\omega}\\left(n+\\frac{1}{2}\\right)+\\tilde{B}J(J+1) \\qquad n = 0,1,2... \\qquad J = 0,1,2...$$\n",
        "\n",
        "where \n",
        "\n",
        "$$\\tilde{B} = \\frac{h}{8\\pi^2cI}$$\n",
        "\n",
        "When you include higher order terms from the anharmonic oscillator, the vibration frequency term can be approximated with Equation 5.41 (Section 5.43 pg. 223) to result in the following equation\n",
        "$$E_{n,J} = \\tilde{\\omega_e}\\left(n+\\frac{1}{2}\\right)-\\tilde{x_e}\\tilde{\\omega_e}\\left(n+\\frac{1}{2}\\right)^2+\\tilde{B}J(J+1) \\qquad n = 0,1,2... \\qquad n = 0,1,2...$$\n",
        "\n",
        "The above energy equation (and the associated Hamiltonian) assumes that the vibrational and rotational states are independent, although this isn't completely accurate. When a molecule absorbs infrared radiation, this causes a transition between vibrational levels, but that transition is also accompanied by a transition between rotational levels. \n",
        "\n",
        "A simple approximation is to recognize that the bond length likely increases as vibrational quantum number increases, and therefore $\\tilde{B}$ should really depend on the vibrational state (n) of the molecule following Equation 6.43 (pg. 280 of McQuarrie). Look at Table 6.1 for experimentally determined values for $\\tilde{B_{e}}$ and $\\tilde{\\alpha_{e}}$.\n",
        "\n",
        "$$\\tilde{B} = \\tilde{B_{e}} - \\tilde{\\alpha_{e}}\\left(n+\\frac{1}{2}\\right)$$\n",
        "\n",
        "\n",
        "Additionally, when a molecule that is described by this both models absorbs a photon, both selection rules apply:\n",
        "\n",
        "$\\Delta n = \\pm 1$\n",
        "\n",
        "$\\Delta J = \\pm 1$.\n",
        "\n",
        "\n",
        "If we consider the $n=0\\rightarrow1$ transition (for which $\\Delta J = +1$), then the so called R branch of the rotational vibrational spectra is comprised of observable peaks dictated by:\n",
        "\n",
        "$$\\tilde{\\omega}\\left(\\Delta J =+1\\right) = E_{1,J+1} - E_{0,J} \\quad J=0,1,2,...$$\n",
        "\n",
        "Likewise, the P branch is given by: \n",
        "\n",
        "$$\\tilde{\\omega}\\left(\\Delta J = - 1\\right) = E_{1,J-1} - E_{0,J}\\quad J=1,2,3,...$$\n",
        "\n",
        "We will use the equations above to accomplish three goals\n",
        "\n",
        "1) Calulcate rotovibraional energy levels\n",
        "2) Determine the allowed transitions in an absorption spectrum\n",
        "3) Plot the energy levels and transitions in an energy diagram\n",
        "\n",
        "Lastly, in Part 4, we will apply the Lorenztian distribution function to simulate a rotovibrational spectrum.\n",
        "\n",
        "## Part 1. Calculate rotovibrational energy levels for n=0 and n=1 vibrational states\n",
        "Using the physical constants in Table 5.1 (pg. 221) and 6.1 (pg. 280), calculate the energy levels of the n=0 and n=1 vibrational states. Allow J to range from 0 to 13."
      ]
    },
    {
      "cell_type": "code",
      "metadata": {
        "id": "hG6oTe4Qrb3l"
      },
      "source": [
        "import numpy as np\n",
        "from scipy.constants import h,hbar,c\n",
        "import pandas as pd\n",
        "\n",
        "#For HCl, look up these values on pg. 221 Table 5.1\n",
        "omega_tilde =  #cm-1\n",
        "x_tilde_omega_tilde =  #cm-1\n",
        "\n",
        "#For HCl, look up these values on pg. 280 Table 6.1\n",
        "B_tilde=  #cm-1\n",
        "alpha_tilde=. 2 #cm-1\n",
        "\n",
        "#I think you can make a loop that calculates these numbers automatically instead of manually\n",
        "J0=0\n",
        "J1=1\n",
        "J2=2\n",
        "J3=3\n",
        "J4=4\n",
        "J5=5\n",
        "J6=6\n",
        "J7=7\n",
        "J8=8\n",
        "J9=9\n",
        "J10=10\n",
        "J11=11\n",
        "J12=12\n",
        "J13=13\n",
        "\n",
        "#assume n=0\n",
        "n0=0\n",
        "E0_J0 =\n",
        "E0_J1 =\n",
        "E0_J2 =\n",
        "E0_J3 =\n",
        "E0_J4 =\n",
        "E0_J5 =\n",
        "E0_J6 =\n",
        "E0_J7 =\n",
        "E0_J8 =\n",
        "E0_J9 =\n",
        "E0_J10 =\n",
        "E0_J11 =\n",
        "E0_J12 =\n",
        "\n",
        "E0_values = [E0_J0, E0_J1, E0_J2, E0_J3, E0_J4,E0_J5]\n",
        "\n",
        "#assume n=1\n",
        "n1=1\n",
        "E1_J0 = \n",
        "E1_J1 =\n",
        "E1_J2 =\n",
        "E1_J3 =\n",
        "E1_J4 =\n",
        "E1_J5 =\n",
        "E1_J6 =\n",
        "E1_J7 =\n",
        "E1_J8 =\n",
        "E1_J9 =\n",
        "E1_J10 =\n",
        "E1_J11 =\n",
        "E1_J12 =\n",
        "E1_J13 = \n",
        "\n",
        "E1_values = [E1_J0, E1_J1, E1_J2, E1_J3, E1_J4, E1_J5]\n",
        "\n",
        "df = pd.DataFrame()\n",
        "# Add data to the dataframe\n",
        "df['E(n=0)'] = E0_values\n",
        "df['E(n=1)'] = E1_values\n",
        "\n",
        "# This command makes the table in this cell\n",
        "df"
      ],
      "execution_count": null,
      "outputs": []
    },
    {
      "cell_type": "markdown",
      "metadata": {
        "id": "IrQJhpzXJ5WX"
      },
      "source": [
        "## Part 2. What are the allowed transitions in an absorption experiment?\n",
        "\n",
        "Calculate the frequencies of the first 4 lines in the R and P branches"
      ]
    },
    {
      "cell_type": "code",
      "metadata": {
        "id": "LP_basfz5eLM"
      },
      "source": [
        "# R branch:\n",
        "# For the delta_J = +1 case\n",
        "R00_11 = \n",
        "R01_12 = \n",
        "R02_13 = \n",
        "R03_14 = \n",
        "R04_15 = \n",
        "R05_16 = \n",
        "R06_17 = \n",
        "R07_18 = \n",
        "R08_19 = \n",
        "R09_110 = \n",
        "R010_111 = \n",
        "R011_112 = \n",
        "R012_113 =\n",
        "\n",
        "#P Branch:\n",
        "# For the delta_J =-1 case\n",
        "P01_10 = \n",
        "P02_11 = \n",
        "P03_12 = \n",
        "P04_13 = \n",
        "P05_14 = \n",
        "P06_15 = \n",
        "P07_16 = \n",
        "P08_17 = \n",
        "P09_18 = \n",
        "P010_19 = \n",
        "P011_110 = \n",
        "\n",
        "R_values = [R00_11,R01_12,R02_13,R03_14,0]\n",
        "P_values = [0,P01_10,P02_11,P03_12,P04_13]\n",
        "\n",
        "df = pd.DataFrame()\n",
        "# Add data to the dataframe\n",
        "df['R(J=+1)'] = R_values\n",
        "df['P(J=-1)'] = P_values\n",
        "\n",
        "# This command makes the table in this cell\n",
        "df"
      ],
      "execution_count": null,
      "outputs": []
    },
    {
      "cell_type": "markdown",
      "metadata": {
        "id": "-_05zKKLIsha"
      },
      "source": [
        "## Part 3. Construct to scale an Energy-Level Diagram\n",
        "Let's plot an Energy Diagram for the first five rotational levels for n=0 and n=1 vibrational states for HCl. Indicate the allowed transitions that correlate to the R and P branches (as vertical lines).\n",
        "\n",
        "Question 3. Change the color of the plots from green (R branch) and black (P branch) to other colors."
      ]
    },
    {
      "cell_type": "code",
      "metadata": {
        "id": "hVBxzgRpyR2M"
      },
      "source": [
        "# How to plot and label these energy levels?\n",
        "import matplotlib.pyplot as plt\n",
        "\n",
        "colors = ['#e6194b', '#3cb44b', '#ffe119', '#4363d8', '#f58231', \n",
        "          '#911eb4', '#46f0f0', '#f032e6', '#bcf60c', '#fabebe', \n",
        "          '#008080', '#e6beff', '#9a6324', '#fffac8', '#800000', \n",
        "          '#aaffc3', '#808000', '#ffd8b1', '#000075', '#808080', \n",
        "          '#ffffff', '#000000'] \n",
        "          \n",
        "# Plot the Energy Diagram \n",
        "fig = plt.figure(figsize=(10,7))\n",
        "\n",
        "# Energy levels for the n=0 states\n",
        "plt.axhline(y=E0_J0, color = '#e6194b',linestyle='-')\n",
        "plt.axhline(y=E0_J1, color = '#3cb44b',linestyle='-')\n",
        "plt.axhline(y=E0_J2, color = '#ffe119',linestyle='-')\n",
        "plt.axhline(y=E0_J3, color = '#4363d8',linestyle='-')\n",
        "plt.axhline(y=E0_J4, color = '#f58231',linestyle='-')\n",
        "#Energy levels for the n=1 states\n",
        "plt.axhline(y=E1_J0, color = '#911eb4',linestyle='-')\n",
        "plt.axhline(y=E1_J1, color = 'm',linestyle='-')\n",
        "plt.axhline(y=E1_J2, color = 'g',linestyle='-')\n",
        "plt.axhline(y=E1_J3, color = 'r',linestyle='-')\n",
        "plt.axhline(y=E1_J4, color = 'b',linestyle='-')\n",
        "\n",
        "# Add vertical lines for the R branch\n",
        "plt.vlines(x=1, ymin=E0_J0, ymax=E1_J1, colors='k', lw=1, label='R00_11')\n",
        "plt.vlines(x=2, ymin=E0_J1, ymax=E1_J2, colors='k', lw=2, label='R01_12')\n",
        "plt.vlines(x=3, ymin=E0_J2, ymax=E1_J3, colors='k', lw=3, label='R02_13')\n",
        "plt.vlines(x=4, ymin=E0_J3, ymax=E1_J4, colors='k', lw=4, label='R03_14')\n",
        "plt.vlines(x=5, ymin=E0_J4, ymax=E1_J5, colors='k', lw=5, label='R04_15')\n",
        "\n",
        "# Add vertical lines for the P branch\n",
        "plt.vlines(x=-1, ymin=E0_J0, ymax=E1_J1, colors='g', lw=1, label='P01_10')\n",
        "plt.vlines(x=-2, ymin=E0_J1, ymax=E1_J2, colors='g', lw=2, label='P02_11')\n",
        "plt.vlines(x=-3, ymin=E0_J2, ymax=E1_J3, colors='g', lw=3, label='P03_12')\n",
        "plt.vlines(x=-4, ymin=E0_J3, ymax=E1_J4, colors='g', lw=4, label='P04_13')\n",
        "plt.vlines(x=-5, ymin=E0_J4, ymax=E1_J5, colors='g', lw=5, label='P05_14')\n",
        "\n",
        "plt.ylabel('Energy (cm^-1)') \n",
        "plt.title(\"Rotovibrational energy levels\")\n",
        "plt.legend(bbox_to_anchor=(1.0,1))\n",
        "\n",
        "plt.show()"
      ],
      "execution_count": null,
      "outputs": []
    },
    {
      "cell_type": "markdown",
      "metadata": {
        "id": "k1GSSTJjaSJS"
      },
      "source": [
        "## Part 4. Use the data calculated above to make a simulated rotovibrational spectrum \n",
        "\n",
        "So that each peak looks like the data you would collect on a real rotovibrational spectrophotometer, we will artifically add a full-width half max (fwhm) and use the lorenztian distribution function as shown below.\n",
        "\n",
        "For thie portion of the exercise, you simply can hit \"SHIFT-ENTER\" and let Python do its magic!"
      ]
    },
    {
      "cell_type": "code",
      "metadata": {
        "id": "3N-J8i1pt_8P"
      },
      "source": [
        "def define_figure(xlabel=\"X\",ylabel=\"Y\"):\n",
        "    # setup plot parameters\n",
        "    fig = plt.figure(figsize=(10,8), dpi= 80, facecolor='w', edgecolor='k')\n",
        "    ax = plt.subplot(111)\n",
        "    ax.grid(b=True, which='major', axis='both', color='#808080', linestyle='--')\n",
        "    ax.set_xlabel(xlabel,size=20)\n",
        "    ax.set_ylabel(ylabel,size=20)\n",
        "    plt.tick_params(axis='both',labelsize=20)\n",
        "    return ax\n",
        "\n",
        "def lorentzian(x,v,fwhm):\n",
        "    return (2*np.pi)**(-1) * fwhm / ( (x-v)**2 + (0.5*fwhm)**2 )\n",
        "\n",
        "x = np.arange(2400,3600,1)\n",
        "fwhm = 2.0\n",
        "\n",
        "ax = define_figure(xlabel=\"$v$ (cm-1)\",ylabel=\"%T\")\n",
        "plt.plot(x,0.2*lorentzian(x,R012_113,fwhm)+0.3*lorentzian(x,R010_111,fwhm)+0.4*lorentzian(x,R09_110,fwhm)+0.5*lorentzian(x,R08_19,fwhm)+0.6*lorentzian(x,R07_18,fwhm)+0.7*lorentzian(x,R06_17,fwhm)+0.8*lorentzian(x,R05_16,fwhm)+0.9*lorentzian(x,R04_15,fwhm)+lorentzian(x,R03_14,fwhm)+0.8*lorentzian(x,R02_13,fwhm)+0.7*lorentzian(x,R01_12,fwhm)+0.6*lorentzian(x,R00_11,fwhm),lw=2)\n",
        "plt.plot(x,0.8*lorentzian(x,P01_10,fwhm)+0.9*lorentzian(x,P02_11,fwhm)+1*lorentzian(x,P03_12,fwhm)+0.95*lorentzian(x,P04_13,fwhm)+0.9*lorentzian(x,P05_14,fwhm)+0.85*lorentzian(x,P06_15,fwhm)+0.80*lorentzian(x,P07_16,fwhm)+0.7*lorentzian(x,P08_17,fwhm)+0.6*lorentzian(x,P09_18,fwhm)+0.5*lorentzian(x,P010_19,fwhm)+0.4*lorentzian(x,P011_110,fwhm),lw=2)\n",
        "plt.xlim(2500,3200)"
      ],
      "execution_count": null,
      "outputs": []
    },
    {
      "cell_type": "code",
      "metadata": {
        "id": "u4G6OSPRE6zi"
      },
      "source": [
        ""
      ],
      "execution_count": null,
      "outputs": []
    }
  ]
}