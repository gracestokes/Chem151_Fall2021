{
  "nbformat": 4,
  "nbformat_minor": 0,
  "metadata": {
    "kernelspec": {
      "display_name": "Python 3",
      "language": "python",
      "name": "python3"
    },
    "language_info": {
      "codemirror_mode": {
        "name": "ipython",
        "version": 3
      },
      "file_extension": ".py",
      "mimetype": "text/x-python",
      "name": "python",
      "nbconvert_exporter": "python",
      "pygments_lexer": "ipython3",
      "version": "3.8.3"
    },
    "colab": {
      "name": "4--lastname--Visualizing Anharmonic Oscillator.ipynb",
      "provenance": [],
      "collapsed_sections": []
    }
  },
  "cells": [
    {
      "cell_type": "markdown",
      "metadata": {
        "id": "fS6EeEFflGg0"
      },
      "source": [
        "This Jupyter Notebooks was written by Dr. Courtney Harrington (Colorado State University).\n",
        "<p>It was adopted for Chem 151 at SCU by Dr. Grace Stokes (Fall 2021).\n",
        "\n",
        "\n",
        "# Part 1. Harmonic Oscillator\n",
        "\n",
        "Hooke's Law is the simplest theoretical model of molecular vibrations, which involves a linear restraining force, as shown in Equation 1. Here, $k$ is referred to as the proportionality constant and $r-r_0$ is the displacement from an equilibrium position, $r_0$.\n",
        "\n",
        "$$ F = k\\left(r-r_0\\right) = kx \\qquad \\left(1\\right)$$\n",
        "\n",
        "Classically, integrating Hooke's Law with respect to position results in a potential energy equation that describes a simple harmonic oscillator. Here, k is still a proportionality constant, but it's called the force constant.\n",
        "\n",
        "$$ V(x) = \\frac{1}{2}k\\left(r-r_0\\right)^2 = \\frac{1}{2}k\\left(x\\right)^2 \\qquad \\left(2\\right)$$\n",
        "\n",
        "Near room temperature, this potential energy equation provides a good approximation for the internuclear potential energy of a vibrating diatomic molecule, for which $r_0$ refers to the equilibrium bond length. Therefore, we can use this harmonic oscillator approximation to solve the one-dimensional Schrodinger equation for the energy levels of a diatomic. For this problem, the Hamiltonian is as follows, in which the total energy of the system is the sum of the kinetic and potential energies of the molecule:\n",
        "\n",
        "$$E(x) = K(x) + V(x) = \\frac{1}{2}mv^2 + \\frac{1}{2}kx^2$$\n",
        "\n",
        "$$\\hat{H} = \\hat{K} + \\hat{V} = -\\frac{\\hbar^2}{2\\mu}\\frac{d^2}{dx^2} + \\frac{1}{2}kx^2 $$\n",
        "\n",
        "$$ \\frac{-\\hbar^2}{2\\mu}\\frac{d^2\\psi}{dx^2} + V\\left(x\\right)\\psi\\left(x\\right) = E\\psi\\left(x\\right) $$\n",
        "\n",
        "The solution to this equation is a set of evenly spaced energy levels or vibrational frequencies, $\\nu$.\n",
        "\n",
        "$$ E = h \\nu\\left(n+\\frac{1}{2}\\right) \\qquad \\nu = \\frac{1}{2 \\pi}\\sqrt{\\frac{k}{\\mu}} \\qquad n = 0, 1, 2... \\qquad \\left(3\\right) $$"
      ]
    },
    {
      "cell_type": "markdown",
      "metadata": {
        "id": "SbovvAyolGg9"
      },
      "source": [
        "# Part 2. Compare the Morse Potential Curve to the Harmonic Oscillator\n",
        "\n",
        "The Morse Oscillator is a better theoretical model of molecular vibrations because the Morse oscillator accounts for the possibility of bond dissociation. The potential energy equation for the Morse oscillator is as follows, in which $k$ is the proportionality constant, $D$ is the bond energy, and $r - r_0$ represents the displacement from the equilibrium bond position, $r_0$.\n",
        "\n",
        "$$V_{morse} = D_e \\beta \\left(1-e^{-\\beta \\left(r-r_0\\right)}\\right)^2 = \\sqrt {\\frac{k}{2D}} \\qquad \\left(1\\right)$$\n",
        "\n",
        "Solving this quantum mechanical problem results in a set of unevenly spaced energy levels or frequencies, $\\nu$.\n",
        "\n",
        "$$E_{morse} = \\nu \\left(n+\\frac{1}{2}\\right) - \\nu x \\left(n+\\frac{1}{2}\\right)^2 = \\qquad \\left(2\\right) $$\n",
        "\n",
        "$$ \\nu \\left(n+\\frac{1}{2}\\right) \\left(1-x\\left(n+\\frac{1}{2}\\right)\\right) \\qquad x = \\frac{hc\\nu}{4D} $$\n"
      ]
    },
    {
      "cell_type": "markdown",
      "metadata": {
        "id": "zgsh8CaveHx8"
      },
      "source": [
        "# Part 3. Eigenfunctions for the Harmonic Oscillator\n",
        "The general solution to the harmonic oscillator quantum mechanical Hamiltonian is given on page 225 of McQuarrie\n",
        "\n",
        "$\\psi_n(x) = N_{n}H_n(\\alpha^{1/2}x)e^{-\\alpha x^2/2}$\n",
        "\n",
        "where\n",
        "\n",
        "$N_{n} = \\frac{1}{(2^nn!)^{1/2}}\\left(\\frac{\\alpha}{\\pi}\\right)^{1/4}$\n",
        "\n",
        "and $H_n(x)$ are Hermite polynomials,\n",
        "\n",
        "$H_n(x) = (-1)^ne^{x^2}\\frac{d^n}{dx^2}\\left(e^{-x^2}\\right)$."
      ]
    },
    {
      "cell_type": "markdown",
      "metadata": {
        "id": "tiJRiunnd2AW"
      },
      "source": [
        "## Part 4. Remember HW 5-9? \n",
        "\n",
        "The code below should look familiar. We already used Python to make a plot of the Harmonic Oscillator in comparison to the Morse Potential using the information given in the textbook ($D_e$ and $\\beta$ values).\n",
        "\n"
      ]
    },
    {
      "cell_type": "code",
      "metadata": {
        "id": "IlqnmsHRd2nc"
      },
      "source": [
        "import numpy as np\n",
        "import matplotlib.pyplot as plt\n",
        "\n",
        "def define_figure(xlabel=\"X\",ylabel=\"Y\"):\n",
        "    # setup plot parameters\n",
        "    fig = plt.figure(figsize=(10,8), dpi= 80, facecolor='w', edgecolor='k')\n",
        "    ax = plt.subplot(111)\n",
        "    ax.grid(b=True, which='major', axis='both', color='#808080', linestyle='--')\n",
        "    ax.set_xlabel(xlabel,size=20)\n",
        "    ax.set_ylabel(ylabel,size=20)\n",
        "    plt.tick_params(axis='both',labelsize=20)\n",
        "    return ax\n",
        "ax = define_figure(xlabel=\"$x$\",ylabel=\"$V(x)$\")\n",
        "x = np.arange(-1e-10,1E-8,1E-12)\n",
        "De = 7.31 * 10**-19\n",
        "beta = 1.81*10**10\n",
        "k = \n",
        "V = \n",
        "Morse = \n",
        "ax.plot(x, V, 'k', label = 'harmonic oscillator')\n",
        "ax.plot(x, Morse, 'r', label = 'morse potential')\n",
        "ax.set_xlim(-1E-10,1E-9)\n",
        "ax.set_ylim(0, 1E-18)\n",
        "ax.legend(loc=4,fontsize=18)"
      ],
      "execution_count": null,
      "outputs": []
    },
    {
      "cell_type": "markdown",
      "metadata": {
        "id": "Wq6kKKzAfNV1"
      },
      "source": [
        "## Part 5. Overlay the Energy Levels of the Harmonic Oscillator\n",
        "Note the \"define_figure\" function will be used again in the code below to plot the Harmonic Oscillator after we have defined the energy levels and wave functions, which we will do so below.\n",
        "\n",
        "In the cell below, Dr. Harrington defines which n values to overlay on the plot using a \"for loop.\" She has written the code so that n values range from 0 to 5. \n",
        "\n",
        "Question 1. How would you change the code if you want to plot the energy levels from n = 0 to n = 7? \n",
        "\n",
        "Question 2. Compare and contrast the energy levels for the Harmonic Oscillator to the 1-D particle in a box. (number of nodes, spacing)"
      ]
    },
    {
      "cell_type": "code",
      "metadata": {
        "id": "Tmp0MVLUfZ2p"
      },
      "source": [
        "# let's plot the energy levels and wave functions\n",
        "from scipy.special import hermite\n",
        "from scipy.special import factorial\n",
        "\n",
        "# start by defining N function\n",
        "def Nn(n,alpha):\n",
        "    return 1/np.sqrt(2**n*factorial(n))*(alpha/np.pi)**0.25\n",
        "\n",
        "# initialize a figure\n",
        "ax = define_figure(xlabel=\"$x$\",ylabel=\"$V(x)$\")\n",
        "hbar = 1.0\n",
        "omega = 2*np.pi\n",
        "alpha = omega/np.pi\n",
        "x = np.arange(-np.pi/2.0,np.pi/2.0,0.01)\n",
        "U = 0.5 * (omega)**2 * x**2\n",
        "ax.plot(x, U, 'k')\n",
        "for n in range(6):\n",
        "    # compute and plot energy levels\n",
        "    evals = hbar*omega*(n+0.5)\n",
        "    mask = np.where(evals > U)  \n",
        "    ax.plot(x[mask], evals * np.ones(np.shape(x))[mask], 'k--')\n",
        "    # compute and plot wavefunctions\n",
        "    psi = (-1)**n*Nn(n,alpha)*hermite(n)(np.sqrt(alpha)*x)*np.exp(-alpha*x**2/2.0)\n",
        "    Y = psi+evals  # shift wavefunction up in Y to be at energy level\n",
        "    label = \"n=\"+str(n)\n",
        "    mask = np.where(Y > U-2.0)\n",
        "    ax.plot(x[mask], Y[mask].real,label=label)\n",
        "plt.legend(fontsize=18)"
      ],
      "execution_count": null,
      "outputs": []
    },
    {
      "cell_type": "markdown",
      "metadata": {
        "id": "Cz1g85oZWSsB"
      },
      "source": [
        "## Type your answer to questions 1 and 2 in this cell:\n",
        "Answer to Question 1:\n",
        "\n",
        "Answer to Question 2:\n",
        "\n",
        "Question 3. Want a challenge? Try to overlay the energy levels for the Harmonic Oscillator in the plot you made for HW 5-9 above. Note that y-axis scale is different and so are the np.arange() you chose."
      ]
    },
    {
      "cell_type": "code",
      "metadata": {
        "id": "BwAURv2TlGg8"
      },
      "source": [
        ""
      ],
      "execution_count": null,
      "outputs": []
    },
    {
      "cell_type": "markdown",
      "metadata": {
        "id": "rsQAU2o0peGg"
      },
      "source": [
        "# Part 6. Overlay energy levels for the Morse Potential\n",
        "\n",
        "To make life more complicated (and realistic), we need to use an estimation method (called the Variational Method) to determine eigenfunctions and eigenvalues for the Morse Potential. We will not go into detail about the math required for this calculation in Chem 151, but if you take advanced quantum course in graduate school, you may encounter these equations.\n",
        "\n",
        "We start by approximating the wavefunction, $\\psi(x)$, as an expansion of gaussians:\n",
        "\n",
        "$$\\psi(x) \\approx \\sum_{i=1}^Nc_ie^{-\\alpha(x-x_i)^2}$$\n",
        "\n",
        "in which $g_i(x) = e^{-\\alpha(x-x_i)^2}$ is the $i$th gaussian basis function with width $1/\\alpha$ and centered at $x_i$. Then, we derive expressions for the following matrix elements:\n",
        "\n",
        "$$ H_{ij} = \\langle g_i|\\hat{H}|g_j\\rangle$$\n",
        "\n",
        "and\n",
        "\n",
        "$$ S_{ij} = \\langle g_i|g_j\\rangle $$\n",
        "\n",
        "Note that since $\\hat{H} = \\hat{K} + \\hat{V}$ we can write the Hamiltonian matrix element as a sum: \n",
        "\n",
        "$$ H_{ij} = \\langle g_i|\\hat{K}|g_j\\rangle + \\langle g_i|\\hat{V}|g_j\\rangle$$\n",
        "\n",
        "Performing the integrals and simplifying the algebra leads to:\n",
        "\n",
        "$$ H_{ij} = \\frac{1}{2}\\sqrt{\\frac{\\pi}{2\\alpha}}e^{-0.5\\alpha(x_i-x_j)^2}\\left(\\alpha - \\alpha^2(xi-xj)^2 + \\frac{1}{4}(\\frac{1}{\\alpha} + (x_i+x_j)^2) \\right)$$\n",
        "\n",
        "and\n",
        "\n",
        "$$ S_{ij} = \\sqrt{\\frac{\\pi}{2\\alpha}}e^{-0.5\\alpha(x_i-x_j)^2} $$\n",
        "\n",
        "A brief note on the algebra: the product of two gaussians yields a gaussian (You have to complete the square in the exponent).  E.g.\n",
        "\n",
        "$$ e^{-\\alpha(x-x_i)^2}e^{-\\alpha(x-x_j)^2} = e^{-1/2\\alpha(x_i-x_j)^2}e^{-2\\alpha\\left(x-\\frac{x_i+x_j}{2}\\right)^2}$$\n",
        "\n",
        "in which the first term on the right-hand side of the above equality is a constant (exponent does not depend on $x$) and the second term is a guassian centered at $\\frac{x_i+x_j}{2}$.\n",
        "\n",
        "The goal now is to diagonlize (/compute eigenvalues and eigenvectors of) the matrix $\\mathbf{S}^{-1}\\mathbf{H}$.  To do so, we choose the number of gaussians, the width of the gaussians, and the spacing of the gaussians.  We will investigate the effect of changing the number of guassians but fix the width to be one ($\\alpha = 1$) and fix the spacing to be 0.4. \n",
        "\n",
        "The following code cell computes the $H_{ij}$ and $S_{ij}$ matrices, diagonalizes the product of those matrices, and then returns the variational energies and normalized variational wavefunctions for a Morse oscillator."
      ]
    },
    {
      "cell_type": "code",
      "metadata": {
        "id": "S2XBHHOQqD49"
      },
      "source": [
        "# Just hit SHIFT-ENTER in this cell and go to the next cell\n",
        "# code to perform Variational principle solution to expansion of wavefunctions in a gaussian basis to K+V Hamiltonian in 1D\n",
        "from scipy import integrate\n",
        "\n",
        "# integrand for potential component of Hamiltonian matrix element for gaussian basis functions\n",
        "def integrand(x,V,xi,xj,alpha):\n",
        "    return np.exp(-alpha*(x-xi)**2)*V(x)*np.exp(-alpha*(x-xj)**2) #trial wavefunction \n",
        "#this function is generic! Can substitute any potential operator into the V(x) placeholder\n",
        "\n",
        "# variational principle basis set solution for KE plus V (typically harmonic) - basis functions are guassians\n",
        "def basis_V(N,V,xvals=np.arange(-4,4,0.1)):\n",
        "    #N = 3                       # half the number of basis functions\n",
        "    K = 2*N+1                    # total number of basis functions #keeps K above zero, which keeps i and j greater than zero\n",
        "    dx = 0.4                     # spacing between basis functions\n",
        "    alpha = 1.0                  # 1/spread of basis functions\n",
        "    xmin = -N*dx                 # minimum x value for basis functions\n",
        "    xIntegrand = np.arange(xmin-1.0/alpha*10,N*dx+1.0/alpha*10,0.01) #ten standard deviations from the maximum of the gaussians at the farthest x values\n",
        "    S = np.zeros((K,K),dtype=float)   # basis function overlap matrix\n",
        "    H = np.zeros((K,K),dtype=float)   # Hamiltonian matrix, Hij = <gi|H|gj>\n",
        "\n",
        "    # populate the basis function, S, and Hamiltonian, H, matrices\n",
        "    for i in range(K):\n",
        "        xi = xmin + (i-1)*dx\n",
        "        for j in range(K):\n",
        "            xj = xmin + (j-1)*dx\n",
        "            # basis function value:\n",
        "            S[i,j] = np.sqrt(0.5*np.pi/alpha)*np.exp(-0.5*alpha*(xi-xj)**2)\n",
        "            # Hamiltonian value (standard Harmonic Oscillator matrix element - applied to basis functions)\n",
        "            H[i,j] = 0.5*S[i,j]*(alpha - (alpha**2)*(xi-xj)**2) # Kinetic energy #the kinetic energy operator is identical for any type of oscillator (morse, lennard jones, harmonic, anharmonic, etc)\n",
        "#            H[i,j] += integrate.quad(integrand,-np.inf,np.inf,args=(V,xi,xj,alpha))[0] # potential energy using numeric integration\n",
        "            H[i,j] += integrate.simps(integrand(xIntegrand,V,xi,xj,alpha),xIntegrand)\n",
        "    # finalize the S^-1*H*S matrix\n",
        "    SinvH = np.dot(np.linalg.inv(S),H)\n",
        "    # compute eigenvalues and eigenvectors\n",
        "    H_eig_val, H_eig_vec = np.linalg.eig(SinvH)\n",
        "    # reorder these so largest eigenvalue is first\n",
        "    idx = H_eig_val.argsort()   \n",
        "    H_eig_val = H_eig_val[idx]\n",
        "    H_eig_vec = H_eig_vec[:,idx]\n",
        "\n",
        "    nx = xvals.size\n",
        "    psi = np.zeros((nx,K),dtype=float)\n",
        "    psiNorm = np.empty(xIntegrand.size,dtype=float)\n",
        "    # generate psis from coefficients\n",
        "    for A in range(K):\n",
        "        count = K-A-1\n",
        "        psiNorm = 0.0\n",
        "        for i in range(K):\n",
        "            xi = xmin + (i-1)*dx\n",
        "            psi[:,A] = psi[:,A] + H_eig_vec[i,A]*np.exp(-alpha*(xvals-xi)**2)\n",
        "            psiNorm = psiNorm + H_eig_vec[i,A]*np.exp(-alpha*(xIntegrand-xi)**2)\n",
        "    \n",
        "        # normalize the wavefunctions\n",
        "        psi2 = np.power(psiNorm,2)\n",
        "        norm = float(integrate.simps(psi2,xIntegrand))\n",
        "        psi[:,A] /= np.sqrt(norm)\n",
        "    # return normalized wavefunctions and energies\n",
        "    return psi, H_eig_val"
      ],
      "execution_count": 15,
      "outputs": []
    },
    {
      "cell_type": "code",
      "metadata": {
        "id": "oEj5yAb1rCLA"
      },
      "source": [
        "# Just hit shift-enter (you don't need to make any changes to this cell)\n",
        "De = 20.0\n",
        "beta = 0.75\n",
        "xvals = np.arange(-3,10,0.1)\n",
        "\n",
        "def harmonic(x):\n",
        "    return De*beta**2*x**2\n",
        "\n",
        "def morse(x):\n",
        "    return De*(1-np.exp(-beta*x))**2 #this is not the taylor-expansion of the morse potential, but rather the complete function!\n",
        "\n",
        "\n",
        "# initialize a figure\n",
        "ax = define_figure(xlabel=\"$x$\",ylabel=\"$V(x)$\")\n",
        "\n",
        "# compute potential energies #simply input the domain values and store the y values\n",
        "U_morse = morse(xvals)\n",
        "U_h = harmonic(xvals)\n",
        "\n",
        "# plot potential energies and harmonic oscillator\n",
        "ax.plot(xvals, U_h, 'k',lw=2,label=\"harmonic\")\n",
        "ax.plot(xvals, morse(xvals), 'r',lw=2,label=\"morse\")\n",
        "\n",
        "# compute wavefunctions and energies for these potential functions\n",
        "psi_morse, E_morse = basis_V(18,morse,xvals) #uses the above code\n",
        "\n",
        "# plot morse energy levels and wavefunctions\n",
        "for n in range(10):\n",
        "    if (E_morse[n] <= De):\n",
        "        # plot the energy level\n",
        "        mask = np.where(E_morse[n] > U_morse)  \n",
        "        ax.plot(xvals[mask], E_morse[n] * np.ones(np.shape(xvals))[mask], 'r--')\n",
        "        # plot the wavefunction\n",
        "        Y = psi_morse[:,n]+E_morse[n]\n",
        "        mask = np.where(Y > U_morse-2.0)\n",
        "        ax.plot(xvals[mask], Y[mask].real)  \n",
        "        \n",
        "ax.set_xlim(-2, 10)\n",
        "ax.set_ylim(0, 25)\n",
        "ax.legend(loc=4,fontsize=18)\n",
        "\n",
        "from scipy.special import hermite\n",
        "from scipy.special import factorial\n",
        "\n",
        "# start by defining N function\n",
        "def Nn(n,alpha):\n",
        "    return 1/np.sqrt(2**n*factorial(n))*(alpha/np.pi)**0.25"
      ],
      "execution_count": null,
      "outputs": []
    },
    {
      "cell_type": "markdown",
      "metadata": {
        "id": "zFIhQNlwYBDt"
      },
      "source": [
        "Question 4: Compare and contrast the energy levels for the Morse potential to the \"pure\" harmonic oscillator (number of nodes, spacing)\n",
        "\n",
        "Type your answer to question 4 in this cell:\n",
        "Answer to Question 4:\n",
        "\n",
        "Question 5. Want a challenge? Try to overlay the energy levels for the Morse Potential in the plot you made for HW 5-9 at the top. Note that y-axis scale is different and so are the np.arange() you chose."
      ]
    },
    {
      "cell_type": "markdown",
      "metadata": {
        "id": "LgDoNqEPvdSC"
      },
      "source": [
        "## Part 7. Anharmonic Oscillator\n",
        "\n",
        "Now, we want to plot the anharmonic oscillator using the equations shown below. Let's see if the plot of the anharmonic oscillator looks different from the Harmonic Oscillator or the Morse potential.\n",
        "\n",
        "The anharmonic oscillator, unlike the Morse potential, does not account for bond dissociation, but, it does account for other deviations from typical harmonic oscillation.\n",
        "\n",
        "The potential energy equation for the anharmonic oscillator is:\n",
        "\n",
        "$$V_{anharmonic} = D_e \\beta^2 \\left(r-r_0\\right)^2 + D_e \\beta^3 \\left(r-r_0\\right)^3 +D_e \\beta^4 \\left(r-r_0\\right)^4 = $$\n",
        "\n",
        "$$ D_e \\left(\\beta x\\right)^2 + D_e \\left(\\beta x\\right)^3 +D_e \\left(\\beta x\\right)^4 \\qquad \\left(1\\right)$$\n",
        "\n",
        "Additionally, the vibrational energy levels (out to the cubic term) of the anharmonic oscillator are:\n",
        "\n",
        "$$E_{anharmonic} = \\left(n+\\frac{1}{2}\\right) \\nu_e - \\left(n+\\frac{1}{2}\\right)^2 \\nu_e x_e + \\left(n+\\frac{1}{2}\\right)^3 \\nu_e y_e - ...  \\qquad \\left(2\\right) $$\n",
        "\n",
        "in which $x_e$ and $y_e$ are the first and second anharmonicity constants. \n",
        "Calculating the energies for the anharmonic oscillator requires using the Variational Method, which is beyond the scope of this course. \n",
        "\n",
        "Question 6. Make changes to the code provided above to plot the anharmonic oscillator overlayed with the harmonic oscillator and morse potential in the cell below."
      ]
    },
    {
      "cell_type": "code",
      "metadata": {
        "id": "Nx7yjQWWxlRJ"
      },
      "source": [
        ""
      ],
      "execution_count": null,
      "outputs": []
    },
    {
      "cell_type": "code",
      "metadata": {
        "id": "RgmUyR_FblSr"
      },
      "source": [
        ""
      ],
      "execution_count": null,
      "outputs": []
    },
    {
      "cell_type": "markdown",
      "metadata": {
        "id": "SgkLm69WcUrQ"
      },
      "source": [
        "# Part 8. Do you have some extra time? (beyond the scope of Chem 151):\n",
        "## Variational Solution to the Harmonic Oscillator\n",
        "\n",
        "Let's reconsider a harmonic oscillator with the Hamiltonian:\n",
        "\n",
        "$$\\hat{H} = -\\frac{\\hbar^2}{2m}\\frac{d^2}{dx^2} + \\frac{1}{2}x^2$$\n",
        "\n",
        "We can solve this problem using the variational principle with gaussian basis functions and compare these results to the analytic solution. To do so, we start by approximating the wavefunction, $\\psi(x)$, as an expansion of gaussians:\n",
        "\n",
        "$$\\psi(x) \\approx \\sum_{i=1}^Nc_ie^{-\\alpha(x-x_i)^2}$$\n",
        "\n",
        "in which $g_i(x) = e^{-\\alpha(x-x_i)^2}$ is the $i$th gaussian basis function with width $1/\\alpha$ and centered at $x_i$. Then, we derive expressions for the following matrix elements:\n",
        "\n",
        "$$ H_{ij} = \\langle g_i|\\hat{H}|g_j\\rangle$$\n",
        "\n",
        "and\n",
        "\n",
        "$$ S_{ij} = \\langle g_i|g_j\\rangle $$\n",
        "\n",
        "Note that since $\\hat{H} = \\hat{K} + \\hat{V}$ we can write the Hamiltonian matrix element as a sum: \n",
        "\n",
        "$$ H_{ij} = \\langle g_i|\\hat{K}|g_j\\rangle + \\langle g_i|\\hat{V}|g_j\\rangle$$\n",
        "\n",
        "Performing the integrals and simplifying the algebra leads to:\n",
        "\n",
        "$$ H_{ij} = \\frac{1}{2}\\sqrt{\\frac{\\pi}{2\\alpha}}e^{-0.5\\alpha(x_i-x_j)^2}\\left(\\alpha - \\alpha^2(xi-xj)^2 + \\frac{1}{4}(\\frac{1}{\\alpha} + (x_i+x_j)^2) \\right)$$\n",
        "\n",
        "and\n",
        "\n",
        "$$ S_{ij} = \\sqrt{\\frac{\\pi}{2\\alpha}}e^{-0.5\\alpha(x_i-x_j)^2} $$\n",
        "\n",
        "A brief note on the algebra: the product of two gaussians yields a gaussian (You have to complete the square in the exponent).  E.g.\n",
        "\n",
        "$$ e^{-\\alpha(x-x_i)^2}e^{-\\alpha(x-x_j)^2} = e^{-1/2\\alpha(x_i-x_j)^2}e^{-2\\alpha\\left(x-\\frac{x_i+x_j}{2}\\right)^2}$$\n",
        "\n",
        "in which the first term on the right-hand side of the above equality is a constant (exponent does not depend on $x$) and the second term is a guassian centered at $\\frac{x_i+x_j}{2}$.\n",
        "\n",
        "The goal now is to diagonlize (/compute eigenvalues and eigenvectors of) the matrix $\\mathbf{S}^{-1}\\mathbf{H}$.  To do so, we choose the number of gaussians, the width of the gaussians, and the spacing of the gaussians.  We will investigate the effect of changing the number of guassians but fix the width to be one ($\\alpha = 1$) and fix the spacing to be 0.4.  The subsequent code computes the two matrices, diagonalizes the product, and then returns the variational energies and normalized variational wavefunctions.  "
      ]
    },
    {
      "cell_type": "code",
      "metadata": {
        "id": "ZmGyDIxIcrq4"
      },
      "source": [
        "from scipy import integrate\n",
        "# variational principle basis set solution to the harmonic oscillator - basis functions are guassians\n",
        "def basis_ho(N): # N is half the number of basis functions\n",
        "    K = 2*N+1                    # total number of basis functions to make it symmetric\n",
        "    dx = 0.4                     # spacing between basis functions\n",
        "    alpha = 1.0                  # 1/spread of basis functions\n",
        "    xvals = np.arange(-4,4,0.01)  # x domain for psi\n",
        "    xmin = -N*dx                 # minimum x value for basis functions\n",
        "    xIntMin = xmin - 10.0*1.0/alpha\n",
        "    xIntMax = N*dx + 10.0*1.0/alpha\n",
        "    xInt = np.arange(xIntMin,xIntMax,0.01)\n",
        "#this is generic; any number of basis functions can be evaluated using this code; the larger the basis set, the better the approximation    \n",
        "    \n",
        "    S = np.zeros((K,K),dtype=float)   # basis function overlap matrix\n",
        "    H = np.zeros((K,K),dtype=float)   # Hamiltonian matrix\n",
        "\n",
        "    # populate the basis function, S, and Hamiltonian, H, matrices\n",
        "    for i in range(K):\n",
        "        xi = xmin + (i-1)*dx\n",
        "        for j in range(K):\n",
        "            xj = xmin + (j-1)*dx\n",
        "            # basis function value:\n",
        "            S[i,j] = np.sqrt(0.5*np.pi/alpha)*np.exp(-0.5*alpha*(xi-xj)**2)\n",
        "            # Hamiltonian value (standard Harmonic Oscillator matrix element - applied to basis functions)\n",
        "            #the following statement is only applicable for the Harmonic Oscillator\n",
        "            H[i,j] = 0.5*S[i,j]*(alpha - (alpha**2)*(xi-xj)**2 + 0.25*(1.0/alpha + (xi+xj)**2) ) #this is an analytic approach to solving for sum of potential and kinetic energies, more difficult to do for other potential energy operators!!\n",
        "   \n",
        "    # finalize the S^-1*H*S matrix\n",
        "    SinvH = np.dot(np.linalg.inv(S),H)\n",
        "    # compute eigenvalues and eigenvectors\n",
        "    H_eig_val, H_eig_vec = np.linalg.eig(SinvH)\n",
        "    # reorder these so smallest eigenvalue is first\n",
        "    idx = H_eig_val.argsort()   \n",
        "    H_eig_val = H_eig_val[idx]\n",
        "    H_eig_vec = H_eig_vec[:,idx]\n",
        "\n",
        "    nx = xvals.size\n",
        "    psi = np.zeros((nx,K),dtype=float)\n",
        "    psiNorm = np.zeros(xInt.size,dtype=float)\n",
        "    # generate psis from coefficients\n",
        "    for A in range(K):\n",
        "        count = K-A-1\n",
        "        psiNorm = 0.0\n",
        "        for i in range(K):\n",
        "            xi = xmin + (i-1)*dx\n",
        "            psi[:,A] = psi[:,A] + H_eig_vec[i,A]*np.exp(-alpha*(xvals-xi)**2)\n",
        "            psiNorm = psiNorm + H_eig_vec[i,A]*np.exp(-alpha*(xInt-xi)**2)\n",
        "    \n",
        "        # normalize the wavefunctions\n",
        "        psi2 = np.power(psiNorm,2)\n",
        "        norm = integrate.simps(psi2,xInt)\n",
        "        psi[:,A] /= np.sqrt(norm)\n",
        "\n",
        "    return psi, H_eig_val"
      ],
      "execution_count": 13,
      "outputs": []
    },
    {
      "cell_type": "code",
      "metadata": {
        "id": "kY1NVpo9c7NQ"
      },
      "source": [
        "# compute psis:\n",
        "psi5, E5 = basis_ho(5)\n",
        "psi10, E10 = basis_ho(10)\n",
        "\n",
        "# let's plot the energy levels and wave functions\n",
        "from scipy.special import hermite\n",
        "from scipy.special import factorial\n",
        "# start by defining N function for analytic solution to HO wavefunctions\n",
        "def Nn(n,alpha):\n",
        "    return 1/np.sqrt(2**n*factorial(n))*(alpha/np.pi)**0.25\n",
        "\n",
        "# initialize a figure\n",
        "ax = define_figure(xlabel=\"$x$\",ylabel=\"$V(x)$\")\n",
        "hbar = 1.0\n",
        "k = 1.0\n",
        "m = 1.0\n",
        "omega = np.sqrt(k/m)\n",
        "alpha = np.sqrt(k*m)/hbar\n",
        "x = np.arange(-4,4,0.01)\n",
        "x2 = np.power(x,2)\n",
        "U = 0.5 * (omega)**2 * x**2\n",
        "ax.plot(x, U, 'k')\n",
        "for n in range(8):\n",
        "    # compute and plot energy levels\n",
        "    evals = hbar*omega*(n+0.5)\n",
        "    mask = np.where(evals > U)  \n",
        "    ax.plot(x[mask], evals * np.ones(np.shape(x))[mask], 'r-', label=\"analytic\")\n",
        "    # plot variational energy levels\n",
        "    mask = np.where(E5[n] > U)  \n",
        "    ax.plot(x[mask], E5[n] * np.ones(np.shape(x))[mask], 'b--',label=\"variational\")\n",
        "    # compute and plot analytic wavefunctions\n",
        "    psi = (-1)**n*Nn(n,alpha)*hermite(n)(np.sqrt(alpha)*x)*np.exp(-alpha*x2/2.0)\n",
        "    Y = psi+evals  # shift wavefunction up in Y to be at energy level\n",
        "    label = \"n=\"+str(n)\n",
        "    mask = np.where(Y > U-2.0)\n",
        "    ax.plot(x[mask], Y[mask].real)\n",
        "    # plot variational wavefunctions\n",
        "    Y = psi5[:,n]+E5[n]  # shift wavefunction up in Y to be at energy level\n",
        "    label = \"n=\"+str(n)\n",
        "    mask = np.where(Y > U-2.0)\n",
        "    ax.plot(x[mask], Y[mask].real,'b--')\n",
        "#plt.legend(fontsize=18)"
      ],
      "execution_count": null,
      "outputs": []
    },
    {
      "cell_type": "markdown",
      "metadata": {
        "id": "CaxxoV4lcsLE"
      },
      "source": [
        "***In the code above, use the \"print\" function to print out the Hamiltonian, overlap, and eigenvalue matrices.***\n",
        "\n",
        "Just for fun: In the cells below, compute the variational solution to the anharmonic oscillator using the given values for $D_e$ and $\\beta$ using the gaussian basis routine that is outlined for the Harmonic Oscillator. After doing so, you can change the values of $D_e$ and $\\beta$ to see how this alters the shape of the potential curve."
      ]
    },
    {
      "cell_type": "code",
      "metadata": {
        "id": "V5a1xhbVdE4v"
      },
      "source": [
        ""
      ],
      "execution_count": null,
      "outputs": []
    }
  ]
}