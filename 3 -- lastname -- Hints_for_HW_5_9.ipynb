{
  "nbformat": 4,
  "nbformat_minor": 0,
  "metadata": {
    "colab": {
      "name": "Hints for HW 5-9.ipynb",
      "provenance": [],
      "collapsed_sections": []
    },
    "kernelspec": {
      "name": "python3",
      "display_name": "Python 3"
    },
    "language_info": {
      "name": "python"
    }
  },
  "cells": [
    {
      "cell_type": "code",
      "metadata": {
        "id": "LjcwmeN3LezM"
      },
      "source": [
        "import numpy as np\n",
        "import matplotlib.pyplot as plt\n",
        "\n",
        "def define_figure(xlabel=\"X\",ylabel=\"Y\"):\n",
        "    # setup plot parameters\n",
        "    fig = plt.figure(figsize=(10,8), dpi= 80, facecolor='w', edgecolor='k')\n",
        "    ax = plt.subplot(111)\n",
        "    ax.grid(b=True, which='major', axis='both', color='#808080', linestyle='--')\n",
        "    ax.set_xlabel(xlabel,size=20)\n",
        "    ax.set_ylabel(ylabel,size=20)\n",
        "    plt.tick_params(axis='both',labelsize=20)\n",
        "    return ax\n",
        "De = \n",
        "beta = \n",
        "k = \n",
        "ax = define_figure(xlabel=\"$x$\",ylabel=\"$V(x)$\")\n",
        "x = np.arange(-1E-10,1E-9,1E-12) # you may need to change the lower and upper limits np.arange(lower limit, upper limit, spacing)\n",
        "V = \n",
        "\n",
        "Morse = De*(1-np.exp(-beta*x))**2\n",
        "ax.plot(x, V, 'k', label = 'harmonic oscillator')\n",
        "ax.plot(x, Morse, 'r', label = 'morse potential')\n",
        "ax.set_xlim(-1E-10, 1E-9)\n",
        "ax.set_ylim(0, 1E-18)\n",
        "ax.legend(loc=4,fontsize=18)"
      ],
      "execution_count": null,
      "outputs": []
    },
    {
      "cell_type": "code",
      "metadata": {
        "id": "yPcDT-kbLw0g"
      },
      "source": [
        ""
      ],
      "execution_count": null,
      "outputs": []
    }
  ]
}